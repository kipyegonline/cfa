{
 "cells": [
  {
   "cell_type": "code",
   "execution_count": 2,
   "metadata": {},
   "outputs": [],
   "source": [
    "import pandas as pd"
   ]
  },
  {
   "cell_type": "code",
   "execution_count": 259,
   "metadata": {},
   "outputs": [],
   "source": [
    "df1=pd.read_csv(\"j1/distribution-of-rural-population-age-5-years-and-above-by-activity-status-sex-county-and-sub-cou.csv\")"
   ]
  },
  {
   "cell_type": "code",
   "execution_count": 262,
   "metadata": {},
   "outputs": [
    {
     "data": {
      "text/plain": [
       "Index(['Sub-County3/Sex1', 'Total', 'Working',\n",
       "       'Seeking Work/No Work Available', 'Persons outside the Labour Force2',\n",
       "       'Not Stated'],\n",
       "      dtype='object')"
      ]
     },
     "execution_count": 262,
     "metadata": {},
     "output_type": "execute_result"
    }
   ],
   "source": [
    "\n",
    "#strs=df1.Total.str.strip(\",\").str.join(sep=\"\").apply(lambda a:convert(a))\n",
    "\n",
    "#\"SAMBURU\" in df1['Sub-County3/Sex1'].values\n",
    "#df1.count()\n",
    "#df.isnull().sum()\n",
    "#df.unique()\n",
    "#df1.Total.value_counts()\n",
    "df1.keys()"
   ]
  },
  {
   "cell_type": "code",
   "execution_count": 283,
   "metadata": {},
   "outputs": [],
   "source": [
    "def convert(a):\n",
    "   \n",
    "    \n",
    "    if(a != \"-\"):\n",
    "       \n",
    "        return int(a) \n",
    "    else:\n",
    "        return \"-\"\n",
    "    \n",
    "def loop(df,a):\n",
    "    count=0\n",
    "    for a,b in df[a].iteritems():\n",
    "       \n",
    "        if(b  != \"-\"):\n",
    "            count +=b\n",
    "            \n",
    "    return count"
   ]
  },
  {
   "cell_type": "code",
   "execution_count": 284,
   "metadata": {},
   "outputs": [
    {
     "data": {
      "text/plain": [
       "Index(['Sub-County3/Sex1', 'Total', 'Working',\n",
       "       'Seeking Work/No Work Available', 'Persons outside the Labour Force2',\n",
       "       'Not Stated'],\n",
       "      dtype='object')"
      ]
     },
     "execution_count": 284,
     "metadata": {},
     "output_type": "execute_result"
    }
   ],
   "source": [
    "df1.keys()\n"
   ]
  },
  {
   "cell_type": "code",
   "execution_count": 294,
   "metadata": {},
   "outputs": [],
   "source": [
    "\n",
    "df1['Total']=df1.Total.apply(convert)\n",
    "df1[ 'Working']=df1.Working.apply(convert)\n",
    "df1['Seeking Work/No Work Available']=df1['Seeking Work/No Work Available'].apply(convert)\n",
    "df1['Persons outside the Labour Force2']=df1['Persons outside the Labour Force2'].apply(convert)\n",
    "df1['Not Stated']=df1['Not Stated'].apply(convert)\n",
    "df1.to_csv(\"./v1/distribution-of-rural-population-age-5-years-and-above-by-activity-status-sex-county-and-sub-county.csv\",header=True)\n",
    "\n"
   ]
  },
  {
   "cell_type": "code",
   "execution_count": 200,
   "metadata": {},
   "outputs": [
    {
     "data": {
      "text/plain": [
       "Series([], dtype: float64)"
      ]
     },
     "execution_count": 200,
     "metadata": {},
     "output_type": "execute_result"
    }
   ],
   "source": [
    "df.duplicated().sum()\n",
    "df.drop_duplicates()\n",
    "df.duplicated().sum()\n",
    "df.nunique()\n",
    "df1.describe()\n",
    "df1.duplicated()\n",
    "\n",
    "df1[df1.duplicated()]\n",
    "df1.sum(numeric_only=True)\n",
    "#df1.nunique().count()"
   ]
  },
  {
   "cell_type": "code",
   "execution_count": 153,
   "metadata": {},
   "outputs": [
    {
     "data": {
      "text/plain": [
       "Sub-County3/Sex1                     0\n",
       "Total                                0\n",
       "Working                              0\n",
       "Seeking Work/No Work Available       0\n",
       "Persons outside the Labour Force2    0\n",
       "Not Stated                           0\n",
       "dtype: int64"
      ]
     },
     "execution_count": 153,
     "metadata": {},
     "output_type": "execute_result"
    }
   ],
   "source": [
    "df1.isnull().sum()"
   ]
  },
  {
   "cell_type": "code",
   "execution_count": null,
   "metadata": {},
   "outputs": [],
   "source": []
  }
 ],
 "metadata": {
  "kernelspec": {
   "display_name": "Python 3",
   "language": "python",
   "name": "python3"
  },
  "language_info": {
   "codemirror_mode": {
    "name": "ipython",
    "version": 3
   },
   "file_extension": ".py",
   "mimetype": "text/x-python",
   "name": "python",
   "nbconvert_exporter": "python",
   "pygments_lexer": "ipython3",
   "version": "3.7.5"
  }
 },
 "nbformat": 4,
 "nbformat_minor": 4
}
