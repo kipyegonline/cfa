{
 "cells": [
  {
   "cell_type": "code",
   "execution_count": 2,
   "metadata": {},
   "outputs": [],
   "source": [
    "import pandas as pd"
   ]
  },
  {
   "cell_type": "code",
   "execution_count": 57,
   "metadata": {},
   "outputs": [],
   "source": [
    "path=\"random/tabula-knbs-economic-survey-2020-1-copy-of-sheet1.csv\"\n",
    "df=pd.read_csv(path)"
   ]
  },
  {
   "cell_type": "code",
   "execution_count": 58,
   "metadata": {},
   "outputs": [
    {
     "data": {
      "text/plain": [
       "Index(['Level', 'Category', '2015', '2016', '2017', '2018', '2019'], dtype='object')"
      ]
     },
     "execution_count": 58,
     "metadata": {},
     "output_type": "execute_result"
    }
   ],
   "source": [
    "df.tail(20)\n",
    "df[df.duplicated()]\n",
    "df.keys()\n"
   ]
  },
  {
   "cell_type": "code",
   "execution_count": 59,
   "metadata": {},
   "outputs": [
    {
     "data": {
      "text/html": [
       "<div>\n",
       "<style scoped>\n",
       "    .dataframe tbody tr th:only-of-type {\n",
       "        vertical-align: middle;\n",
       "    }\n",
       "\n",
       "    .dataframe tbody tr th {\n",
       "        vertical-align: top;\n",
       "    }\n",
       "\n",
       "    .dataframe thead th {\n",
       "        text-align: right;\n",
       "    }\n",
       "</style>\n",
       "<table border=\"1\" class=\"dataframe\">\n",
       "  <thead>\n",
       "    <tr style=\"text-align: right;\">\n",
       "      <th></th>\n",
       "      <th>Level</th>\n",
       "      <th>Category</th>\n",
       "      <th>2015</th>\n",
       "      <th>2016</th>\n",
       "      <th>2017</th>\n",
       "      <th>2018</th>\n",
       "      <th>2019</th>\n",
       "    </tr>\n",
       "  </thead>\n",
       "  <tbody>\n",
       "    <tr>\n",
       "      <th>0</th>\n",
       "      <td>Pre-Primary :</td>\n",
       "      <td>Public</td>\n",
       "      <td>24862</td>\n",
       "      <td>25175</td>\n",
       "      <td>25381</td>\n",
       "      <td>25589</td>\n",
       "      <td>28383</td>\n",
       "    </tr>\n",
       "    <tr>\n",
       "      <th>1</th>\n",
       "      <td>Pre-Primary :</td>\n",
       "      <td>Private</td>\n",
       "      <td>15913</td>\n",
       "      <td>16073</td>\n",
       "      <td>16398</td>\n",
       "      <td>16728</td>\n",
       "      <td>18147</td>\n",
       "    </tr>\n",
       "    <tr>\n",
       "      <th>2</th>\n",
       "      <td>Primary:</td>\n",
       "      <td>Public</td>\n",
       "      <td>22414</td>\n",
       "      <td>22939</td>\n",
       "      <td>23584</td>\n",
       "      <td>24241</td>\n",
       "      <td>23286</td>\n",
       "    </tr>\n",
       "    <tr>\n",
       "      <th>3</th>\n",
       "      <td>Primary:</td>\n",
       "      <td>Private</td>\n",
       "      <td>8919</td>\n",
       "      <td>10263</td>\n",
       "      <td>11858</td>\n",
       "      <td>13669</td>\n",
       "      <td>9058</td>\n",
       "    </tr>\n",
       "    <tr>\n",
       "      <th>4</th>\n",
       "      <td>Secondary:</td>\n",
       "      <td>Public</td>\n",
       "      <td>8297</td>\n",
       "      <td>8592</td>\n",
       "      <td>9111</td>\n",
       "      <td>9643</td>\n",
       "      <td>8933</td>\n",
       "    </tr>\n",
       "    <tr>\n",
       "      <th>5</th>\n",
       "      <td>Secondary:</td>\n",
       "      <td>Private</td>\n",
       "      <td>1143</td>\n",
       "      <td>1350</td>\n",
       "      <td>1544</td>\n",
       "      <td>1756</td>\n",
       "      <td>1530</td>\n",
       "    </tr>\n",
       "  </tbody>\n",
       "</table>\n",
       "</div>"
      ],
      "text/plain": [
       "           Level Category   2015   2016   2017   2018   2019\n",
       "0  Pre-Primary :   Public  24862  25175  25381  25589  28383\n",
       "1  Pre-Primary :  Private  15913  16073  16398  16728  18147\n",
       "2       Primary:   Public  22414  22939  23584  24241  23286\n",
       "3       Primary:  Private   8919  10263  11858  13669   9058\n",
       "4     Secondary:   Public   8297   8592   9111   9643   8933\n",
       "5     Secondary:  Private   1143   1350   1544   1756   1530"
      ]
     },
     "execution_count": 59,
     "metadata": {},
     "output_type": "execute_result"
    }
   ],
   "source": [
    "df[\"2015\"]=df[\"2015\"].str.split(\",\").str.join(sep=\"\").apply(lambda a:int(a))\n",
    "df[\"2016\"]=df[\"2016\"].str.split(\",\").str.join(sep=\"\").apply(lambda a:int(a))\n",
    "df[\"2017\"]=df[\"2017\"].str.split(\",\").str.join(sep=\"\").apply(lambda a:int(a))\n",
    "df[\"2018\"]=df[\"2018\"].str.split(\",\").str.join(sep=\"\").apply(lambda a:int(a))\n",
    "df[\"2019\"]=df[\"2019\"].str.split(\",\").str.join(sep=\"\").apply(lambda a:int(a))\n",
    "df"
   ]
  },
  {
   "cell_type": "code",
   "execution_count": 63,
   "metadata": {},
   "outputs": [],
   "source": [
    "path=\"v1/tabula-knbs-economic-survey-2020-1-copy-of-sheet1\"\n",
    "df.to_csv(path,header=True,)"
   ]
  },
  {
   "cell_type": "code",
   "execution_count": null,
   "metadata": {},
   "outputs": [],
   "source": []
  }
 ],
 "metadata": {
  "kernelspec": {
   "display_name": "Python 3",
   "language": "python",
   "name": "python3"
  },
  "language_info": {
   "codemirror_mode": {
    "name": "ipython",
    "version": 3
   },
   "file_extension": ".py",
   "mimetype": "text/x-python",
   "name": "python",
   "nbconvert_exporter": "python",
   "pygments_lexer": "ipython3",
   "version": "3.7.5"
  }
 },
 "nbformat": 4,
 "nbformat_minor": 4
}
