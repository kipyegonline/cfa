{
 "cells": [
  {
   "cell_type": "code",
   "execution_count": 5,
   "metadata": {},
   "outputs": [],
   "source": [
    "import pandas as pd"
   ]
  },
  {
   "cell_type": "code",
   "execution_count": 209,
   "metadata": {},
   "outputs": [
    {
     "data": {
      "text/plain": [
       "Index(['Age', 'Male', 'Female', 'Intersex', 'Total'], dtype='object')"
      ]
     },
     "execution_count": 209,
     "metadata": {},
     "output_type": "execute_result"
    }
   ],
   "source": [
    "path=\"j1/distribution-of-urban-population-by-age-and-sex-kenya-2019-census-volume-iii.csv\"\n",
    "df=pd.read_csv(path )\n",
    "#df.head(20)\n",
    "df.keys()"
   ]
  },
  {
   "cell_type": "code",
   "execution_count": 210,
   "metadata": {},
   "outputs": [],
   "source": [
    "def convert(d):\n",
    "    if(d != \"-\"):\n",
    "        return int(d)\n",
    "    else:\n",
    "        return \"-\""
   ]
  },
  {
   "cell_type": "code",
   "execution_count": 211,
   "metadata": {},
   "outputs": [],
   "source": [
    "df[\"Male\"]=df[\"Male\"].str.split(\",\").str.join(sep=\"\").apply(lambda a:int(a))\n",
    "df[\"Female\"]=df[\"Female\"].str.split(\",\").str.join(sep=\"\").apply(lambda a:int(a))\n",
    "df[\"Intersex\"]=df[\"Intersex\"].str.split(\",\").str.join(sep=\"\").apply(convert)\n",
    "df[\"Total\"]=df[\"Total\"].str.split(\",\").str.join(sep=\"\").apply(lambda a:int(a))\n",
    "path=\"v1/distribution-of-urban-population-by-age-and-sex-kenya-2019-census-volume-iii.csv\"\n",
    "#df.to_csv(path,header=True,)"
   ]
  },
  {
   "cell_type": "code",
   "execution_count": 217,
   "metadata": {},
   "outputs": [],
   "source": [
    "df2=pd.read_csv(\"j1/notified-births-in-the-last-12-months-by-county-2019-census-volume-iv.csv\")\n"
   ]
  },
  {
   "cell_type": "code",
   "execution_count": 218,
   "metadata": {},
   "outputs": [],
   "source": [
    "df2[\"Per Cent Notified\"]=df2[\"Per Cent Notified\"].astype(\"int\")\n",
    "df2[\"Total\"]=df2[\"Total\"].str.split(\",\").str.join(sep=\"\").apply(convert)\n",
    "df2[\"Not Stated\"]=df2[\"Not Stated\"].str.split(\",\").str.join(sep=\"\").apply(convert)\n",
    "df2[\"Notified\"]=df2[\"Notified\"].str.split(\",\").str.join(sep=\"\").apply(convert)\n",
    "df2[\"Not Notified\"]=df2[\"Not Notified\"].str.split(\",\").str.join(sep=\"\").apply(convert)\n",
    "df2[\"Don't Know\"]=df2[\"Don't Know\"].str.split(\",\").str.join(sep=\"\").apply(convert)\n",
    "df2['Not Notified']=df2['Not Notified'].astype(\"int\")\n",
    "path=\"v1/notified-births-in-the-last-12-months-by-county-2019-census-volume-iv.csv\"\n",
    "df2.to_csv(path,header=True,)"
   ]
  },
  {
   "cell_type": "code",
   "execution_count": 216,
   "metadata": {},
   "outputs": [
    {
     "data": {
      "text/html": [
       "<div>\n",
       "<style scoped>\n",
       "    .dataframe tbody tr th:only-of-type {\n",
       "        vertical-align: middle;\n",
       "    }\n",
       "\n",
       "    .dataframe tbody tr th {\n",
       "        vertical-align: top;\n",
       "    }\n",
       "\n",
       "    .dataframe thead th {\n",
       "        text-align: right;\n",
       "    }\n",
       "</style>\n",
       "<table border=\"1\" class=\"dataframe\">\n",
       "  <thead>\n",
       "    <tr style=\"text-align: right;\">\n",
       "      <th></th>\n",
       "      <th>Unnamed: 0</th>\n",
       "      <th>Total</th>\n",
       "      <th>Notified</th>\n",
       "      <th>Not Notified</th>\n",
       "      <th>Don't Know</th>\n",
       "      <th>Not Stated</th>\n",
       "      <th>Per Cent Notified</th>\n",
       "    </tr>\n",
       "  </thead>\n",
       "  <tbody>\n",
       "    <tr>\n",
       "      <th>0</th>\n",
       "      <td>KENYA</td>\n",
       "      <td>1340468</td>\n",
       "      <td>1212142</td>\n",
       "      <td>125714</td>\n",
       "      <td>2609</td>\n",
       "      <td>3</td>\n",
       "      <td>90</td>\n",
       "    </tr>\n",
       "    <tr>\n",
       "      <th>1</th>\n",
       "      <td>RURAL</td>\n",
       "      <td>888039</td>\n",
       "      <td>777343</td>\n",
       "      <td>108563</td>\n",
       "      <td>2131</td>\n",
       "      <td>2</td>\n",
       "      <td>87</td>\n",
       "    </tr>\n",
       "    <tr>\n",
       "      <th>2</th>\n",
       "      <td>URBAN</td>\n",
       "      <td>452429</td>\n",
       "      <td>434799</td>\n",
       "      <td>17151</td>\n",
       "      <td>478</td>\n",
       "      <td>1</td>\n",
       "      <td>96</td>\n",
       "    </tr>\n",
       "    <tr>\n",
       "      <th>3</th>\n",
       "      <td>MOMBASA</td>\n",
       "      <td>37249</td>\n",
       "      <td>35201</td>\n",
       "      <td>2026</td>\n",
       "      <td>22</td>\n",
       "      <td>-</td>\n",
       "      <td>94</td>\n",
       "    </tr>\n",
       "    <tr>\n",
       "      <th>4</th>\n",
       "      <td>KWALE</td>\n",
       "      <td>29226</td>\n",
       "      <td>26455</td>\n",
       "      <td>2719</td>\n",
       "      <td>52</td>\n",
       "      <td>-</td>\n",
       "      <td>90</td>\n",
       "    </tr>\n",
       "  </tbody>\n",
       "</table>\n",
       "</div>"
      ],
      "text/plain": [
       "  Unnamed: 0    Total  Notified  Not Notified  Don't Know Not Stated  \\\n",
       "0      KENYA  1340468   1212142        125714        2609          3   \n",
       "1      RURAL   888039    777343        108563        2131          2   \n",
       "2      URBAN   452429    434799         17151         478          1   \n",
       "3    MOMBASA    37249     35201          2026          22          -   \n",
       "4      KWALE    29226     26455          2719          52          -   \n",
       "\n",
       "   Per Cent Notified  \n",
       "0                 90  \n",
       "1                 87  \n",
       "2                 96  \n",
       "3                 94  \n",
       "4                 90  "
      ]
     },
     "execution_count": 216,
     "metadata": {},
     "output_type": "execute_result"
    }
   ],
   "source": [
    "df2.head()"
   ]
  },
  {
   "cell_type": "code",
   "execution_count": null,
   "metadata": {},
   "outputs": [],
   "source": []
  }
 ],
 "metadata": {
  "kernelspec": {
   "display_name": "Python 3",
   "language": "python",
   "name": "python3"
  },
  "language_info": {
   "codemirror_mode": {
    "name": "ipython",
    "version": 3
   },
   "file_extension": ".py",
   "mimetype": "text/x-python",
   "name": "python",
   "nbconvert_exporter": "python",
   "pygments_lexer": "ipython3",
   "version": "3.7.5"
  }
 },
 "nbformat": 4,
 "nbformat_minor": 4
}
